{
 "cells": [
  {
   "cell_type": "code",
   "execution_count": 1,
   "metadata": {},
   "outputs": [],
   "source": [
    "import numpy as np\n",
    "import pandas as pd\n",
    "import matplotlib.pyplot as plt"
   ]
  },
  {
   "cell_type": "code",
   "execution_count": 2,
   "metadata": {},
   "outputs": [
    {
     "data": {
      "text/html": [
       "<div>\n",
       "<style scoped>\n",
       "    .dataframe tbody tr th:only-of-type {\n",
       "        vertical-align: middle;\n",
       "    }\n",
       "\n",
       "    .dataframe tbody tr th {\n",
       "        vertical-align: top;\n",
       "    }\n",
       "\n",
       "    .dataframe thead th {\n",
       "        text-align: right;\n",
       "    }\n",
       "</style>\n",
       "<table border=\"1\" class=\"dataframe\">\n",
       "  <thead>\n",
       "    <tr style=\"text-align: right;\">\n",
       "      <th></th>\n",
       "      <th>Age</th>\n",
       "      <th>Attrition</th>\n",
       "      <th>BusinessTravel</th>\n",
       "      <th>Department</th>\n",
       "      <th>DistanceFromHome</th>\n",
       "      <th>Education</th>\n",
       "      <th>EducationField</th>\n",
       "      <th>EmployeeCount</th>\n",
       "      <th>EmployeeID</th>\n",
       "      <th>Gender</th>\n",
       "      <th>...</th>\n",
       "      <th>NumCompaniesWorked</th>\n",
       "      <th>Over18</th>\n",
       "      <th>PercentSalaryHike</th>\n",
       "      <th>StandardHours</th>\n",
       "      <th>StockOptionLevel</th>\n",
       "      <th>TotalWorkingYears</th>\n",
       "      <th>TrainingTimesLastYear</th>\n",
       "      <th>YearsAtCompany</th>\n",
       "      <th>YearsSinceLastPromotion</th>\n",
       "      <th>YearsWithCurrManager</th>\n",
       "    </tr>\n",
       "  </thead>\n",
       "  <tbody>\n",
       "    <tr>\n",
       "      <th>0</th>\n",
       "      <td>51</td>\n",
       "      <td>No</td>\n",
       "      <td>Travel_Rarely</td>\n",
       "      <td>Sales</td>\n",
       "      <td>6</td>\n",
       "      <td>2</td>\n",
       "      <td>Life Sciences</td>\n",
       "      <td>1</td>\n",
       "      <td>1</td>\n",
       "      <td>Female</td>\n",
       "      <td>...</td>\n",
       "      <td>1.0</td>\n",
       "      <td>Y</td>\n",
       "      <td>11</td>\n",
       "      <td>8</td>\n",
       "      <td>0</td>\n",
       "      <td>1.0</td>\n",
       "      <td>6</td>\n",
       "      <td>1</td>\n",
       "      <td>0</td>\n",
       "      <td>0</td>\n",
       "    </tr>\n",
       "    <tr>\n",
       "      <th>1</th>\n",
       "      <td>31</td>\n",
       "      <td>Yes</td>\n",
       "      <td>Travel_Frequently</td>\n",
       "      <td>Research &amp; Development</td>\n",
       "      <td>10</td>\n",
       "      <td>1</td>\n",
       "      <td>Life Sciences</td>\n",
       "      <td>1</td>\n",
       "      <td>2</td>\n",
       "      <td>Female</td>\n",
       "      <td>...</td>\n",
       "      <td>0.0</td>\n",
       "      <td>Y</td>\n",
       "      <td>23</td>\n",
       "      <td>8</td>\n",
       "      <td>1</td>\n",
       "      <td>6.0</td>\n",
       "      <td>3</td>\n",
       "      <td>5</td>\n",
       "      <td>1</td>\n",
       "      <td>4</td>\n",
       "    </tr>\n",
       "    <tr>\n",
       "      <th>2</th>\n",
       "      <td>32</td>\n",
       "      <td>No</td>\n",
       "      <td>Travel_Frequently</td>\n",
       "      <td>Research &amp; Development</td>\n",
       "      <td>17</td>\n",
       "      <td>4</td>\n",
       "      <td>Other</td>\n",
       "      <td>1</td>\n",
       "      <td>3</td>\n",
       "      <td>Male</td>\n",
       "      <td>...</td>\n",
       "      <td>1.0</td>\n",
       "      <td>Y</td>\n",
       "      <td>15</td>\n",
       "      <td>8</td>\n",
       "      <td>3</td>\n",
       "      <td>5.0</td>\n",
       "      <td>2</td>\n",
       "      <td>5</td>\n",
       "      <td>0</td>\n",
       "      <td>3</td>\n",
       "    </tr>\n",
       "    <tr>\n",
       "      <th>3</th>\n",
       "      <td>38</td>\n",
       "      <td>No</td>\n",
       "      <td>Non-Travel</td>\n",
       "      <td>Research &amp; Development</td>\n",
       "      <td>2</td>\n",
       "      <td>5</td>\n",
       "      <td>Life Sciences</td>\n",
       "      <td>1</td>\n",
       "      <td>4</td>\n",
       "      <td>Male</td>\n",
       "      <td>...</td>\n",
       "      <td>3.0</td>\n",
       "      <td>Y</td>\n",
       "      <td>11</td>\n",
       "      <td>8</td>\n",
       "      <td>3</td>\n",
       "      <td>13.0</td>\n",
       "      <td>5</td>\n",
       "      <td>8</td>\n",
       "      <td>7</td>\n",
       "      <td>5</td>\n",
       "    </tr>\n",
       "    <tr>\n",
       "      <th>4</th>\n",
       "      <td>32</td>\n",
       "      <td>No</td>\n",
       "      <td>Travel_Rarely</td>\n",
       "      <td>Research &amp; Development</td>\n",
       "      <td>10</td>\n",
       "      <td>1</td>\n",
       "      <td>Medical</td>\n",
       "      <td>1</td>\n",
       "      <td>5</td>\n",
       "      <td>Male</td>\n",
       "      <td>...</td>\n",
       "      <td>4.0</td>\n",
       "      <td>Y</td>\n",
       "      <td>12</td>\n",
       "      <td>8</td>\n",
       "      <td>2</td>\n",
       "      <td>9.0</td>\n",
       "      <td>2</td>\n",
       "      <td>6</td>\n",
       "      <td>0</td>\n",
       "      <td>4</td>\n",
       "    </tr>\n",
       "  </tbody>\n",
       "</table>\n",
       "<p>5 rows × 24 columns</p>\n",
       "</div>"
      ],
      "text/plain": [
       "   Age Attrition     BusinessTravel              Department  DistanceFromHome  \\\n",
       "0   51        No      Travel_Rarely                   Sales                 6   \n",
       "1   31       Yes  Travel_Frequently  Research & Development                10   \n",
       "2   32        No  Travel_Frequently  Research & Development                17   \n",
       "3   38        No         Non-Travel  Research & Development                 2   \n",
       "4   32        No      Travel_Rarely  Research & Development                10   \n",
       "\n",
       "   Education EducationField  EmployeeCount  EmployeeID  Gender  ...  \\\n",
       "0          2  Life Sciences              1           1  Female  ...   \n",
       "1          1  Life Sciences              1           2  Female  ...   \n",
       "2          4          Other              1           3    Male  ...   \n",
       "3          5  Life Sciences              1           4    Male  ...   \n",
       "4          1        Medical              1           5    Male  ...   \n",
       "\n",
       "   NumCompaniesWorked Over18 PercentSalaryHike  StandardHours  \\\n",
       "0                 1.0      Y                11              8   \n",
       "1                 0.0      Y                23              8   \n",
       "2                 1.0      Y                15              8   \n",
       "3                 3.0      Y                11              8   \n",
       "4                 4.0      Y                12              8   \n",
       "\n",
       "   StockOptionLevel TotalWorkingYears  TrainingTimesLastYear  YearsAtCompany  \\\n",
       "0                 0               1.0                      6               1   \n",
       "1                 1               6.0                      3               5   \n",
       "2                 3               5.0                      2               5   \n",
       "3                 3              13.0                      5               8   \n",
       "4                 2               9.0                      2               6   \n",
       "\n",
       "   YearsSinceLastPromotion  YearsWithCurrManager  \n",
       "0                        0                     0  \n",
       "1                        1                     4  \n",
       "2                        0                     3  \n",
       "3                        7                     5  \n",
       "4                        0                     4  \n",
       "\n",
       "[5 rows x 24 columns]"
      ]
     },
     "execution_count": 2,
     "metadata": {},
     "output_type": "execute_result"
    }
   ],
   "source": [
    "data = pd.read_csv(\"general_data.csv\")\n",
    "data.head()"
   ]
  },
  {
   "cell_type": "code",
   "execution_count": 3,
   "metadata": {},
   "outputs": [
    {
     "name": "stdout",
     "output_type": "stream",
     "text": [
      "<class 'pandas.core.frame.DataFrame'>\n",
      "RangeIndex: 4410 entries, 0 to 4409\n",
      "Data columns (total 24 columns):\n",
      " #   Column                   Non-Null Count  Dtype  \n",
      "---  ------                   --------------  -----  \n",
      " 0   Age                      4410 non-null   int64  \n",
      " 1   Attrition                4410 non-null   object \n",
      " 2   BusinessTravel           4410 non-null   object \n",
      " 3   Department               4410 non-null   object \n",
      " 4   DistanceFromHome         4410 non-null   int64  \n",
      " 5   Education                4410 non-null   int64  \n",
      " 6   EducationField           4410 non-null   object \n",
      " 7   EmployeeCount            4410 non-null   int64  \n",
      " 8   EmployeeID               4410 non-null   int64  \n",
      " 9   Gender                   4410 non-null   object \n",
      " 10  JobLevel                 4410 non-null   int64  \n",
      " 11  JobRole                  4410 non-null   object \n",
      " 12  MaritalStatus            4410 non-null   object \n",
      " 13  MonthlyIncome            4410 non-null   int64  \n",
      " 14  NumCompaniesWorked       4391 non-null   float64\n",
      " 15  Over18                   4410 non-null   object \n",
      " 16  PercentSalaryHike        4410 non-null   int64  \n",
      " 17  StandardHours            4410 non-null   int64  \n",
      " 18  StockOptionLevel         4410 non-null   int64  \n",
      " 19  TotalWorkingYears        4401 non-null   float64\n",
      " 20  TrainingTimesLastYear    4410 non-null   int64  \n",
      " 21  YearsAtCompany           4410 non-null   int64  \n",
      " 22  YearsSinceLastPromotion  4410 non-null   int64  \n",
      " 23  YearsWithCurrManager     4410 non-null   int64  \n",
      "dtypes: float64(2), int64(14), object(8)\n",
      "memory usage: 827.0+ KB\n"
     ]
    }
   ],
   "source": [
    "data.info()"
   ]
  },
  {
   "cell_type": "code",
   "execution_count": 4,
   "metadata": {},
   "outputs": [
    {
     "data": {
      "text/plain": [
       "Age                         0\n",
       "Attrition                   0\n",
       "BusinessTravel              0\n",
       "Department                  0\n",
       "DistanceFromHome            0\n",
       "Education                   0\n",
       "EducationField              0\n",
       "EmployeeCount               0\n",
       "EmployeeID                  0\n",
       "Gender                      0\n",
       "JobLevel                    0\n",
       "JobRole                     0\n",
       "MaritalStatus               0\n",
       "MonthlyIncome               0\n",
       "NumCompaniesWorked         19\n",
       "Over18                      0\n",
       "PercentSalaryHike           0\n",
       "StandardHours               0\n",
       "StockOptionLevel            0\n",
       "TotalWorkingYears           9\n",
       "TrainingTimesLastYear       0\n",
       "YearsAtCompany              0\n",
       "YearsSinceLastPromotion     0\n",
       "YearsWithCurrManager        0\n",
       "dtype: int64"
      ]
     },
     "execution_count": 4,
     "metadata": {},
     "output_type": "execute_result"
    }
   ],
   "source": [
    "data.isnull().sum()"
   ]
  },
  {
   "cell_type": "code",
   "execution_count": 5,
   "metadata": {},
   "outputs": [
    {
     "data": {
      "text/plain": [
       "(4410, 24)"
      ]
     },
     "execution_count": 5,
     "metadata": {},
     "output_type": "execute_result"
    }
   ],
   "source": [
    "data.shape"
   ]
  },
  {
   "cell_type": "code",
   "execution_count": 7,
   "metadata": {},
   "outputs": [
    {
     "data": {
      "text/html": [
       "<div>\n",
       "<style scoped>\n",
       "    .dataframe tbody tr th:only-of-type {\n",
       "        vertical-align: middle;\n",
       "    }\n",
       "\n",
       "    .dataframe tbody tr th {\n",
       "        vertical-align: top;\n",
       "    }\n",
       "\n",
       "    .dataframe thead th {\n",
       "        text-align: right;\n",
       "    }\n",
       "</style>\n",
       "<table border=\"1\" class=\"dataframe\">\n",
       "  <thead>\n",
       "    <tr style=\"text-align: right;\">\n",
       "      <th></th>\n",
       "      <th>count</th>\n",
       "      <th>mean</th>\n",
       "      <th>std</th>\n",
       "      <th>min</th>\n",
       "      <th>25%</th>\n",
       "      <th>50%</th>\n",
       "      <th>75%</th>\n",
       "      <th>max</th>\n",
       "    </tr>\n",
       "  </thead>\n",
       "  <tbody>\n",
       "    <tr>\n",
       "      <th>Age</th>\n",
       "      <td>4410.0</td>\n",
       "      <td>36.923810</td>\n",
       "      <td>9.133301</td>\n",
       "      <td>18.0</td>\n",
       "      <td>30.00</td>\n",
       "      <td>36.0</td>\n",
       "      <td>43.00</td>\n",
       "      <td>60.0</td>\n",
       "    </tr>\n",
       "    <tr>\n",
       "      <th>DistanceFromHome</th>\n",
       "      <td>4410.0</td>\n",
       "      <td>9.192517</td>\n",
       "      <td>8.105026</td>\n",
       "      <td>1.0</td>\n",
       "      <td>2.00</td>\n",
       "      <td>7.0</td>\n",
       "      <td>14.00</td>\n",
       "      <td>29.0</td>\n",
       "    </tr>\n",
       "    <tr>\n",
       "      <th>Education</th>\n",
       "      <td>4410.0</td>\n",
       "      <td>2.912925</td>\n",
       "      <td>1.023933</td>\n",
       "      <td>1.0</td>\n",
       "      <td>2.00</td>\n",
       "      <td>3.0</td>\n",
       "      <td>4.00</td>\n",
       "      <td>5.0</td>\n",
       "    </tr>\n",
       "    <tr>\n",
       "      <th>EmployeeCount</th>\n",
       "      <td>4410.0</td>\n",
       "      <td>1.000000</td>\n",
       "      <td>0.000000</td>\n",
       "      <td>1.0</td>\n",
       "      <td>1.00</td>\n",
       "      <td>1.0</td>\n",
       "      <td>1.00</td>\n",
       "      <td>1.0</td>\n",
       "    </tr>\n",
       "    <tr>\n",
       "      <th>EmployeeID</th>\n",
       "      <td>4410.0</td>\n",
       "      <td>2205.500000</td>\n",
       "      <td>1273.201673</td>\n",
       "      <td>1.0</td>\n",
       "      <td>1103.25</td>\n",
       "      <td>2205.5</td>\n",
       "      <td>3307.75</td>\n",
       "      <td>4410.0</td>\n",
       "    </tr>\n",
       "    <tr>\n",
       "      <th>JobLevel</th>\n",
       "      <td>4410.0</td>\n",
       "      <td>2.063946</td>\n",
       "      <td>1.106689</td>\n",
       "      <td>1.0</td>\n",
       "      <td>1.00</td>\n",
       "      <td>2.0</td>\n",
       "      <td>3.00</td>\n",
       "      <td>5.0</td>\n",
       "    </tr>\n",
       "    <tr>\n",
       "      <th>MonthlyIncome</th>\n",
       "      <td>4410.0</td>\n",
       "      <td>65029.312925</td>\n",
       "      <td>47068.888559</td>\n",
       "      <td>10090.0</td>\n",
       "      <td>29110.00</td>\n",
       "      <td>49190.0</td>\n",
       "      <td>83800.00</td>\n",
       "      <td>199990.0</td>\n",
       "    </tr>\n",
       "    <tr>\n",
       "      <th>NumCompaniesWorked</th>\n",
       "      <td>4391.0</td>\n",
       "      <td>2.694830</td>\n",
       "      <td>2.498887</td>\n",
       "      <td>0.0</td>\n",
       "      <td>1.00</td>\n",
       "      <td>2.0</td>\n",
       "      <td>4.00</td>\n",
       "      <td>9.0</td>\n",
       "    </tr>\n",
       "    <tr>\n",
       "      <th>PercentSalaryHike</th>\n",
       "      <td>4410.0</td>\n",
       "      <td>15.209524</td>\n",
       "      <td>3.659108</td>\n",
       "      <td>11.0</td>\n",
       "      <td>12.00</td>\n",
       "      <td>14.0</td>\n",
       "      <td>18.00</td>\n",
       "      <td>25.0</td>\n",
       "    </tr>\n",
       "    <tr>\n",
       "      <th>StandardHours</th>\n",
       "      <td>4410.0</td>\n",
       "      <td>8.000000</td>\n",
       "      <td>0.000000</td>\n",
       "      <td>8.0</td>\n",
       "      <td>8.00</td>\n",
       "      <td>8.0</td>\n",
       "      <td>8.00</td>\n",
       "      <td>8.0</td>\n",
       "    </tr>\n",
       "    <tr>\n",
       "      <th>StockOptionLevel</th>\n",
       "      <td>4410.0</td>\n",
       "      <td>0.793878</td>\n",
       "      <td>0.851883</td>\n",
       "      <td>0.0</td>\n",
       "      <td>0.00</td>\n",
       "      <td>1.0</td>\n",
       "      <td>1.00</td>\n",
       "      <td>3.0</td>\n",
       "    </tr>\n",
       "    <tr>\n",
       "      <th>TotalWorkingYears</th>\n",
       "      <td>4401.0</td>\n",
       "      <td>11.279936</td>\n",
       "      <td>7.782222</td>\n",
       "      <td>0.0</td>\n",
       "      <td>6.00</td>\n",
       "      <td>10.0</td>\n",
       "      <td>15.00</td>\n",
       "      <td>40.0</td>\n",
       "    </tr>\n",
       "    <tr>\n",
       "      <th>TrainingTimesLastYear</th>\n",
       "      <td>4410.0</td>\n",
       "      <td>2.799320</td>\n",
       "      <td>1.288978</td>\n",
       "      <td>0.0</td>\n",
       "      <td>2.00</td>\n",
       "      <td>3.0</td>\n",
       "      <td>3.00</td>\n",
       "      <td>6.0</td>\n",
       "    </tr>\n",
       "    <tr>\n",
       "      <th>YearsAtCompany</th>\n",
       "      <td>4410.0</td>\n",
       "      <td>7.008163</td>\n",
       "      <td>6.125135</td>\n",
       "      <td>0.0</td>\n",
       "      <td>3.00</td>\n",
       "      <td>5.0</td>\n",
       "      <td>9.00</td>\n",
       "      <td>40.0</td>\n",
       "    </tr>\n",
       "    <tr>\n",
       "      <th>YearsSinceLastPromotion</th>\n",
       "      <td>4410.0</td>\n",
       "      <td>2.187755</td>\n",
       "      <td>3.221699</td>\n",
       "      <td>0.0</td>\n",
       "      <td>0.00</td>\n",
       "      <td>1.0</td>\n",
       "      <td>3.00</td>\n",
       "      <td>15.0</td>\n",
       "    </tr>\n",
       "    <tr>\n",
       "      <th>YearsWithCurrManager</th>\n",
       "      <td>4410.0</td>\n",
       "      <td>4.123129</td>\n",
       "      <td>3.567327</td>\n",
       "      <td>0.0</td>\n",
       "      <td>2.00</td>\n",
       "      <td>3.0</td>\n",
       "      <td>7.00</td>\n",
       "      <td>17.0</td>\n",
       "    </tr>\n",
       "  </tbody>\n",
       "</table>\n",
       "</div>"
      ],
      "text/plain": [
       "                          count          mean           std      min  \\\n",
       "Age                      4410.0     36.923810      9.133301     18.0   \n",
       "DistanceFromHome         4410.0      9.192517      8.105026      1.0   \n",
       "Education                4410.0      2.912925      1.023933      1.0   \n",
       "EmployeeCount            4410.0      1.000000      0.000000      1.0   \n",
       "EmployeeID               4410.0   2205.500000   1273.201673      1.0   \n",
       "JobLevel                 4410.0      2.063946      1.106689      1.0   \n",
       "MonthlyIncome            4410.0  65029.312925  47068.888559  10090.0   \n",
       "NumCompaniesWorked       4391.0      2.694830      2.498887      0.0   \n",
       "PercentSalaryHike        4410.0     15.209524      3.659108     11.0   \n",
       "StandardHours            4410.0      8.000000      0.000000      8.0   \n",
       "StockOptionLevel         4410.0      0.793878      0.851883      0.0   \n",
       "TotalWorkingYears        4401.0     11.279936      7.782222      0.0   \n",
       "TrainingTimesLastYear    4410.0      2.799320      1.288978      0.0   \n",
       "YearsAtCompany           4410.0      7.008163      6.125135      0.0   \n",
       "YearsSinceLastPromotion  4410.0      2.187755      3.221699      0.0   \n",
       "YearsWithCurrManager     4410.0      4.123129      3.567327      0.0   \n",
       "\n",
       "                              25%      50%       75%       max  \n",
       "Age                         30.00     36.0     43.00      60.0  \n",
       "DistanceFromHome             2.00      7.0     14.00      29.0  \n",
       "Education                    2.00      3.0      4.00       5.0  \n",
       "EmployeeCount                1.00      1.0      1.00       1.0  \n",
       "EmployeeID                1103.25   2205.5   3307.75    4410.0  \n",
       "JobLevel                     1.00      2.0      3.00       5.0  \n",
       "MonthlyIncome            29110.00  49190.0  83800.00  199990.0  \n",
       "NumCompaniesWorked           1.00      2.0      4.00       9.0  \n",
       "PercentSalaryHike           12.00     14.0     18.00      25.0  \n",
       "StandardHours                8.00      8.0      8.00       8.0  \n",
       "StockOptionLevel             0.00      1.0      1.00       3.0  \n",
       "TotalWorkingYears            6.00     10.0     15.00      40.0  \n",
       "TrainingTimesLastYear        2.00      3.0      3.00       6.0  \n",
       "YearsAtCompany               3.00      5.0      9.00      40.0  \n",
       "YearsSinceLastPromotion      0.00      1.0      3.00      15.0  \n",
       "YearsWithCurrManager         2.00      3.0      7.00      17.0  "
      ]
     },
     "execution_count": 7,
     "metadata": {},
     "output_type": "execute_result"
    }
   ],
   "source": [
    "data.describe().T"
   ]
  },
  {
   "cell_type": "code",
   "execution_count": 8,
   "metadata": {},
   "outputs": [],
   "source": [
    "data.dropna(inplace = True)"
   ]
  },
  {
   "cell_type": "code",
   "execution_count": 9,
   "metadata": {},
   "outputs": [
    {
     "data": {
      "text/plain": [
       "Age                        0\n",
       "Attrition                  0\n",
       "BusinessTravel             0\n",
       "Department                 0\n",
       "DistanceFromHome           0\n",
       "Education                  0\n",
       "EducationField             0\n",
       "EmployeeCount              0\n",
       "EmployeeID                 0\n",
       "Gender                     0\n",
       "JobLevel                   0\n",
       "JobRole                    0\n",
       "MaritalStatus              0\n",
       "MonthlyIncome              0\n",
       "NumCompaniesWorked         0\n",
       "Over18                     0\n",
       "PercentSalaryHike          0\n",
       "StandardHours              0\n",
       "StockOptionLevel           0\n",
       "TotalWorkingYears          0\n",
       "TrainingTimesLastYear      0\n",
       "YearsAtCompany             0\n",
       "YearsSinceLastPromotion    0\n",
       "YearsWithCurrManager       0\n",
       "dtype: int64"
      ]
     },
     "execution_count": 9,
     "metadata": {},
     "output_type": "execute_result"
    }
   ],
   "source": [
    "data.isnull().sum()"
   ]
  },
  {
   "cell_type": "code",
   "execution_count": 10,
   "metadata": {},
   "outputs": [
    {
     "data": {
      "text/plain": [
       "(4382, 24)"
      ]
     },
     "execution_count": 10,
     "metadata": {},
     "output_type": "execute_result"
    }
   ],
   "source": [
    "data.shape"
   ]
  },
  {
   "cell_type": "code",
   "execution_count": 11,
   "metadata": {},
   "outputs": [
    {
     "data": {
      "text/plain": [
       "Age                       -0.409517\n",
       "DistanceFromHome          -0.230691\n",
       "Education                 -0.565008\n",
       "EmployeeCount              0.000000\n",
       "EmployeeID                -1.198607\n",
       "JobLevel                   0.388189\n",
       "MonthlyIncome              0.990836\n",
       "NumCompaniesWorked         0.014307\n",
       "PercentSalaryHike         -0.306951\n",
       "StandardHours              0.000000\n",
       "StockOptionLevel           0.356755\n",
       "TotalWorkingYears          0.909316\n",
       "TrainingTimesLastYear      0.494215\n",
       "YearsAtCompany             3.930726\n",
       "YearsSinceLastPromotion    3.592162\n",
       "YearsWithCurrManager       0.170703\n",
       "dtype: float64"
      ]
     },
     "execution_count": 11,
     "metadata": {},
     "output_type": "execute_result"
    }
   ],
   "source": [
    "data.kurt()"
   ]
  },
  {
   "cell_type": "markdown",
   "metadata": {},
   "source": [
    "#Age, DistanceFromHome and PercentSalaryHike are Platykurtic as their peakness is negative.#\n",
    "MonthlyIncome, NumCompaniesWorked, TotalWorkingYears, TrainingtimesLastyear, YearsWithCurrManager are Leptokurtic.\n",
    "YearsAtCompany and YearsSinceLastPromotion are highly Leptokurtic as there values are higher than 3."
   ]
  },
  {
   "cell_type": "code",
   "execution_count": 12,
   "metadata": {},
   "outputs": [
    {
     "data": {
      "text/plain": [
       "Age                        0.413048\n",
       "DistanceFromHome           0.955517\n",
       "Education                 -0.288977\n",
       "EmployeeCount              0.000000\n",
       "EmployeeID                -0.002335\n",
       "JobLevel                   1.021797\n",
       "MonthlyIncome              1.367457\n",
       "NumCompaniesWorked         1.029174\n",
       "PercentSalaryHike          0.819510\n",
       "StandardHours              0.000000\n",
       "StockOptionLevel           0.967263\n",
       "TotalWorkingYears          1.115419\n",
       "TrainingTimesLastYear      0.551818\n",
       "YearsAtCompany             1.764619\n",
       "YearsSinceLastPromotion    1.980992\n",
       "YearsWithCurrManager       0.834277\n",
       "dtype: float64"
      ]
     },
     "execution_count": 12,
     "metadata": {},
     "output_type": "execute_result"
    }
   ],
   "source": [
    "data.skew()"
   ]
  },
  {
   "cell_type": "markdown",
   "metadata": {},
   "source": [
    "Age is almost normally distributed as it's skewness lies between -0.5 and 0.5.\n",
    "DistanceFromHome, PercentSalaryHike, TrainingTimesLastYear, YearWithCurrManager are moderately positively skewed.\n",
    "JobLevel, MonthlyIncome, NumCompaniesWorked, TotalWorkingYears, YearsAtCompany, YearsSinceLastPromotion are highly positively skewed as there skewness is more than 1."
   ]
  },
  {
   "cell_type": "code",
   "execution_count": 13,
   "metadata": {},
   "outputs": [
    {
     "data": {
      "text/plain": [
       "<matplotlib.axes._subplots.AxesSubplot at 0x7ff42332f250>"
      ]
     },
     "execution_count": 13,
     "metadata": {},
     "output_type": "execute_result"
    },
    {
     "data": {
      "image/png": "[encoded data removed]",
      "text/plain": [
       "<Figure size 432x288 with 1 Axes>"
      ]
     },
     "metadata": {
      "needs_background": "light"
     },
     "output_type": "display_data"
    }
   ],
   "source": [
    "data.Attrition.value_counts().plot.bar()"
   ]
  },
  {
   "cell_type": "code",
   "execution_count": 15,
   "metadata": {},
   "outputs": [
    {
     "data": {
      "text/plain": [
       "No     0.839115\n",
       "Yes    0.160885\n",
       "Name: Attrition, dtype: float64"
      ]
     },
     "execution_count": 15,
     "metadata": {},
     "output_type": "execute_result"
    }
   ],
   "source": [
    "data.Attrition.value_counts()/len(data.Attrition)"
   ]
  },
  {
   "cell_type": "markdown",
   "metadata": {},
   "source": [
    "From above analysis we can conclude that Attrition rate is around is 16%"
   ]
  },
  {
   "cell_type": "code",
   "execution_count": 16,
   "metadata": {},
   "outputs": [
    {
     "data": {
      "text/plain": [
       "<matplotlib.axes._subplots.AxesSubplot at 0x7ff426060d50>"
      ]
     },
     "execution_count": 16,
     "metadata": {},
     "output_type": "execute_result"
    },
    {
     "data": {
      "image/png": "[encoded data removed]",
      "text/plain": [
       "<Figure size 432x288 with 1 Axes>"
      ]
     },
     "metadata": {
      "needs_background": "light"
     },
     "output_type": "display_data"
    }
   ],
   "source": [
    "data.BusinessTravel.value_counts().plot.bar()"
   ]
  },
  {
   "cell_type": "code",
   "execution_count": 17,
   "metadata": {},
   "outputs": [
    {
     "data": {
      "text/plain": [
       "Travel_Rarely        0.709493\n",
       "Travel_Frequently    0.188270\n",
       "Non-Travel           0.102236\n",
       "Name: BusinessTravel, dtype: float64"
      ]
     },
     "execution_count": 17,
     "metadata": {},
     "output_type": "execute_result"
    }
   ],
   "source": [
    "data.BusinessTravel.value_counts()/len(data.BusinessTravel)"
   ]
  },
  {
   "cell_type": "code",
   "execution_count": 18,
   "metadata": {},
   "outputs": [
    {
     "data": {
      "text/plain": [
       "<matplotlib.axes._subplots.AxesSubplot at 0x7ff4260d0890>"
      ]
     },
     "execution_count": 18,
     "metadata": {},
     "output_type": "execute_result"
    },
    {
     "data": {
      "image/png": "[encoded data removed]",
      "text/plain": [
       "<Figure size 432x288 with 1 Axes>"
      ]
     },
     "metadata": {
      "needs_background": "light"
     },
     "output_type": "display_data"
    }
   ],
   "source": [
    "data.Department.value_counts().plot.bar()"
   ]
  },
  {
   "cell_type": "code",
   "execution_count": 19,
   "metadata": {},
   "outputs": [
    {
     "data": {
      "text/plain": [
       "Research & Development    0.653811\n",
       "Sales                     0.303514\n",
       "Human Resources           0.042675\n",
       "Name: Department, dtype: float64"
      ]
     },
     "execution_count": 19,
     "metadata": {},
     "output_type": "execute_result"
    }
   ],
   "source": [
    "data.Department.value_counts()/len(data.Department)"
   ]
  },
  {
   "cell_type": "code",
   "execution_count": 20,
   "metadata": {},
   "outputs": [
    {
     "data": {
      "text/plain": [
       "<matplotlib.axes._subplots.AxesSubplot at 0x7ff426139210>"
      ]
     },
     "execution_count": 20,
     "metadata": {},
     "output_type": "execute_result"
    },
    {
     "data": {
      "image/png": "[encoded data removed]",
      "text/plain": [
       "<Figure size 432x288 with 1 Axes>"
      ]
     },
     "metadata": {
      "needs_background": "light"
     },
     "output_type": "display_data"
    }
   ],
   "source": [
    "data.Education.value_counts().plot.bar()"
   ]
  },
  {
   "cell_type": "code",
   "execution_count": 21,
   "metadata": {},
   "outputs": [
    {
     "data": {
      "text/plain": [
       "<matplotlib.axes._subplots.AxesSubplot at 0x7ff426243750>"
      ]
     },
     "execution_count": 21,
     "metadata": {},
     "output_type": "execute_result"
    },
    {
     "data": {
      "image/png": "[encoded data removed]",
      "text/plain": [
       "<Figure size 432x288 with 1 Axes>"
      ]
     },
     "metadata": {
      "needs_background": "light"
     },
     "output_type": "display_data"
    }
   ],
   "source": [
    "data.Gender.value_counts().plot.bar()"
   ]
  },
  {
   "cell_type": "code",
   "execution_count": 22,
   "metadata": {},
   "outputs": [
    {
     "data": {
      "text/plain": [
       "<matplotlib.axes._subplots.AxesSubplot at 0x7ff4263081d0>"
      ]
     },
     "execution_count": 22,
     "metadata": {},
     "output_type": "execute_result"
    },
    {
     "data": {
      "image/png": "[encoded data removed]",
      "text/plain": [
       "<Figure size 432x288 with 1 Axes>"
      ]
     },
     "metadata": {
      "needs_background": "light"
     },
     "output_type": "display_data"
    }
   ],
   "source": [
    "data.JobRole.value_counts().plot.bar()"
   ]
  },
  {
   "cell_type": "code",
   "execution_count": 23,
   "metadata": {},
   "outputs": [
    {
     "data": {
      "text/plain": [
       "Sales Executive              0.222501\n",
       "Research Scientist           0.198996\n",
       "Laboratory Technician        0.176403\n",
       "Manufacturing Director       0.097901\n",
       "Healthcare Representative    0.088772\n",
       "Manager                      0.069603\n",
       "Sales Representative         0.056139\n",
       "Research Director            0.054085\n",
       "Human Resources              0.035600\n",
       "Name: JobRole, dtype: float64"
      ]
     },
     "execution_count": 23,
     "metadata": {},
     "output_type": "execute_result"
    }
   ],
   "source": [
    "data.JobRole.value_counts()/len(data.JobRole)"
   ]
  },
  {
   "cell_type": "code",
   "execution_count": 24,
   "metadata": {},
   "outputs": [
    {
     "data": {
      "text/plain": [
       "{'whiskers': [<matplotlib.lines.Line2D at 0x7ff4265d8690>,\n",
       "  <matplotlib.lines.Line2D at 0x7ff4265d8c10>],\n",
       " 'caps': [<matplotlib.lines.Line2D at 0x7ff4265df110>,\n",
       "  <matplotlib.lines.Line2D at 0x7ff4265df610>],\n",
       " 'boxes': [<matplotlib.lines.Line2D at 0x7ff4265cc910>],\n",
       " 'medians': [<matplotlib.lines.Line2D at 0x7ff4265dfa50>],\n",
       " 'fliers': [<matplotlib.lines.Line2D at 0x7ff4265dff50>],\n",
       " 'means': []}"
      ]
     },
     "execution_count": 24,
     "metadata": {},
     "output_type": "execute_result"
    },
    {
     "data": {
      "image/png": "[encoded data removed]",
      "text/plain": [
       "<Figure size 432x288 with 1 Axes>"
      ]
     },
     "metadata": {
      "needs_background": "light"
     },
     "output_type": "display_data"
    }
   ],
   "source": [
    "plt.boxplot(data.Age)"
   ]
  },
  {
   "cell_type": "raw",
   "metadata": {},
   "source": [
    "There are no outlies and data is almost normally distributed"
   ]
  },
  {
   "cell_type": "code",
   "execution_count": 25,
   "metadata": {},
   "outputs": [
    {
     "data": {
      "text/plain": [
       "{'whiskers': [<matplotlib.lines.Line2D at 0x7ff426643550>,\n",
       "  <matplotlib.lines.Line2D at 0x7ff426643ad0>],\n",
       " 'caps': [<matplotlib.lines.Line2D at 0x7ff426639910>,\n",
       "  <matplotlib.lines.Line2D at 0x7ff42664a490>],\n",
       " 'boxes': [<matplotlib.lines.Line2D at 0x7ff4266398d0>],\n",
       " 'medians': [<matplotlib.lines.Line2D at 0x7ff42664a9d0>],\n",
       " 'fliers': [<matplotlib.lines.Line2D at 0x7ff42664ae90>],\n",
       " 'means': []}"
      ]
     },
     "execution_count": 25,
     "metadata": {},
     "output_type": "execute_result"
    },
    {
     "data": {
      "image/png": "[encoded data removed]",
      "text/plain": [
       "<Figure size 432x288 with 1 Axes>"
      ]
     },
     "metadata": {
      "needs_background": "light"
     },
     "output_type": "display_data"
    }
   ],
   "source": [
    "plt.boxplot(data.DistanceFromHome)"
   ]
  },
  {
   "cell_type": "raw",
   "metadata": {},
   "source": [
    "DistanceFromHome is Positively Skewed without outliers"
   ]
  },
  {
   "cell_type": "code",
   "execution_count": 26,
   "metadata": {},
   "outputs": [
    {
     "data": {
      "text/plain": [
       "{'whiskers': [<matplotlib.lines.Line2D at 0x7ff426761ad0>,\n",
       "  <matplotlib.lines.Line2D at 0x7ff426769090>],\n",
       " 'caps': [<matplotlib.lines.Line2D at 0x7ff426754e90>,\n",
       "  <matplotlib.lines.Line2D at 0x7ff426769a50>],\n",
       " 'boxes': [<matplotlib.lines.Line2D at 0x7ff426754e50>],\n",
       " 'medians': [<matplotlib.lines.Line2D at 0x7ff426769f90>],\n",
       " 'fliers': [<matplotlib.lines.Line2D at 0x7ff4267704d0>],\n",
       " 'means': []}"
      ]
     },
     "execution_count": 26,
     "metadata": {},
     "output_type": "execute_result"
    },
    {
     "data": {
      "image/png": "[encoded data removed]",
      "text/plain": [
       "<Figure size 432x288 with 1 Axes>"
      ]
     },
     "metadata": {
      "needs_background": "light"
     },
     "output_type": "display_data"
    }
   ],
   "source": [
    "plt.boxplot(data.YearsAtCompany)"
   ]
  },
  {
   "cell_type": "raw",
   "metadata": {},
   "source": [
    "YearsAtCompanyis Positively Skewed with lot of outliers"
   ]
  },
  {
   "cell_type": "code",
   "execution_count": 27,
   "metadata": {},
   "outputs": [
    {
     "data": {
      "text/plain": [
       "{'whiskers': [<matplotlib.lines.Line2D at 0x7ff426834290>,\n",
       "  <matplotlib.lines.Line2D at 0x7ff426822310>],\n",
       " 'caps': [<matplotlib.lines.Line2D at 0x7ff426834b90>,\n",
       "  <matplotlib.lines.Line2D at 0x7ff42683b0d0>],\n",
       " 'boxes': [<matplotlib.lines.Line2D at 0x7ff42682d550>],\n",
       " 'medians': [<matplotlib.lines.Line2D at 0x7ff42683b510>],\n",
       " 'fliers': [<matplotlib.lines.Line2D at 0x7ff42683ba10>],\n",
       " 'means': []}"
      ]
     },
     "execution_count": 27,
     "metadata": {},
     "output_type": "execute_result"
    },
    {
     "data": {
      "image/png": "[encoded data removed]",
      "text/plain": [
       "<Figure size 432x288 with 1 Axes>"
      ]
     },
     "metadata": {
      "needs_background": "light"
     },
     "output_type": "display_data"
    }
   ],
   "source": [
    "plt.boxplot(data.YearsSinceLastPromotion)"
   ]
  },
  {
   "cell_type": "raw",
   "metadata": {},
   "source": [
    "YearsSinceLastPromotion is Positively Skewed with lot of outliers"
   ]
  },
  {
   "cell_type": "code",
   "execution_count": 28,
   "metadata": {},
   "outputs": [],
   "source": [
    "from scipy.stats import chi2_contingency"
   ]
  },
  {
   "cell_type": "code",
   "execution_count": 29,
   "metadata": {},
   "outputs": [],
   "source": [
    "def chi_square(col):\n",
    "    \n",
    "    print(col)\n",
    "    print(\"\")\n",
    "    print(f\"H0: Attrition is not dependent on {col}\")\n",
    "    print(f\"H1: Attrition is dependent on {col}\")\n",
    "    a,b,c,d = chi2_contingency(pd.crosstab(data.Attrition, data[col]))\n",
    "    print(f\"\\nP-value is {b}\")\n",
    "    \n",
    "    if b > 0.05:\n",
    "        print(f\"H0 is accepted because {b} is greater than 0.05 So, Attrition is not dependent on {col}\")\n",
    "    else:\n",
    "        print(f\"H1 is accepted because {b} is less than 0.05 So, Attrition is dependent on {col}\")\n",
    "    \n",
    "    print(\"--------NEW-----------\")"
   ]
  },
  {
   "cell_type": "code",
   "execution_count": 30,
   "metadata": {},
   "outputs": [
    {
     "name": "stdout",
     "output_type": "stream",
     "text": [
      "BusinessTravel\n",
      "\n",
      "H0: Attrition is not dependent on BusinessTravel\n",
      "H1: Attrition is dependent on BusinessTravel\n",
      "\n",
      "P-value is 6.07019702736392e-16\n",
      "H1 is accepted because 6.07019702736392e-16 is less than 0.05 So, Attrition is dependent on BusinessTravel\n",
      "--------NEW-----------\n",
      "Department\n",
      "\n",
      "H0: Attrition is not dependent on Department\n",
      "H1: Attrition is dependent on Department\n",
      "\n",
      "P-value is 2.382970570769315e-06\n",
      "H1 is accepted because 2.382970570769315e-06 is less than 0.05 So, Attrition is dependent on Department\n",
      "--------NEW-----------\n",
      "Education\n",
      "\n",
      "H0: Attrition is not dependent on Education\n",
      "H1: Attrition is dependent on Education\n",
      "\n",
      "P-value is 0.17963050984273224\n",
      "H0 is accepted because 0.17963050984273224 is greater than 0.05 So, Attrition is not dependent on Education\n",
      "--------NEW-----------\n",
      "EducationField\n",
      "\n",
      "H0: Attrition is not dependent on EducationField\n",
      "H1: Attrition is dependent on EducationField\n",
      "\n",
      "P-value is 3.472896220587872e-08\n",
      "H1 is accepted because 3.472896220587872e-08 is less than 0.05 So, Attrition is dependent on EducationField\n",
      "--------NEW-----------\n",
      "Gender\n",
      "\n",
      "H0: Attrition is not dependent on Gender\n",
      "H1: Attrition is dependent on Gender\n",
      "\n",
      "P-value is 0.23966176275638887\n",
      "H0 is accepted because 0.23966176275638887 is greater than 0.05 So, Attrition is not dependent on Gender\n",
      "--------NEW-----------\n",
      "JobLevel\n",
      "\n",
      "H0: Attrition is not dependent on JobLevel\n",
      "H1: Attrition is dependent on JobLevel\n",
      "\n",
      "P-value is 0.13397290697032432\n",
      "H0 is accepted because 0.13397290697032432 is greater than 0.05 So, Attrition is not dependent on JobLevel\n",
      "--------NEW-----------\n",
      "JobRole\n",
      "\n",
      "H0: Attrition is not dependent on JobRole\n",
      "H1: Attrition is dependent on JobRole\n",
      "\n",
      "P-value is 0.005116592717526599\n",
      "H1 is accepted because 0.005116592717526599 is less than 0.05 So, Attrition is dependent on JobRole\n",
      "--------NEW-----------\n",
      "MaritalStatus\n",
      "\n",
      "H0: Attrition is not dependent on MaritalStatus\n",
      "H1: Attrition is dependent on MaritalStatus\n",
      "\n",
      "P-value is 8.573051828219379e-30\n",
      "H1 is accepted because 8.573051828219379e-30 is less than 0.05 So, Attrition is dependent on MaritalStatus\n",
      "--------NEW-----------\n",
      "StockOptionLevel\n",
      "\n",
      "H0: Attrition is not dependent on StockOptionLevel\n",
      "H1: Attrition is dependent on StockOptionLevel\n",
      "\n",
      "P-value is 0.32799207189761653\n",
      "H0 is accepted because 0.32799207189761653 is greater than 0.05 So, Attrition is not dependent on StockOptionLevel\n",
      "--------NEW-----------\n"
     ]
    }
   ],
   "source": [
    "cols = ['BusinessTravel', 'Department', 'Education', 'EducationField', \n",
    "        'Gender', 'JobLevel', 'JobRole','MaritalStatus', 'StockOptionLevel']\n",
    "for col in cols:\n",
    "    chi_square(col)"
   ]
  },
  {
   "cell_type": "code",
   "execution_count": 31,
   "metadata": {},
   "outputs": [],
   "source": [
    "data['Attrition'] = data['Attrition'].map({'Yes':1, 'No':0})"
   ]
  },
  {
   "cell_type": "code",
   "execution_count": 32,
   "metadata": {},
   "outputs": [],
   "source": [
    "A_yes = data[data['Attrition']==1]\n",
    "A_no = data[data['Attrition']==0]"
   ]
  },
  {
   "cell_type": "code",
   "execution_count": 33,
   "metadata": {},
   "outputs": [],
   "source": [
    "from scipy.stats import mannwhitneyu"
   ]
  },
  {
   "cell_type": "code",
   "execution_count": 36,
   "metadata": {},
   "outputs": [],
   "source": [
    "def mannwithney(col):\n",
    "    print(f\"H0: There is no significant difference between {col} and Attrition\")\n",
    "    print(f\"H1: There is significant difference between {col} and Attrition\")\n",
    "\n",
    "    a, b = mannwhitneyu(A_yes[col],A_no[col])\n",
    "    print(f\"\\nP-value is {b}\")\n",
    "    \n",
    "    if b>0.05:\n",
    "        print(f\"\\nH0 is accepted because p-value is greater than 0.05 so,\" \n",
    "              f\"\\nThere is no significant difference between {col} with respect to Attrition\")\n",
    "    else:\n",
    "        print(f\"\\nH1 is accepted because p-value is smaller than 0.05 so,\" \n",
    "              f\"\\nThere is significant difference between {col} with respect to Attrition\")\n",
    "    print('---------------------NEW-----------------------\\n')"
   ]
  },
  {
   "cell_type": "code",
   "execution_count": 35,
   "metadata": {},
   "outputs": [
    {
     "name": "stdout",
     "output_type": "stream",
     "text": [
      "H0: There is no significant difference between Age and Attrition\n",
      "H1: There is significant difference between Age and Attrition\n",
      "\n",
      "P-value is 7.98668614365882e-30\n",
      "\n",
      "H1 is accepted because p-value is smaller than 0.05 so,\n",
      "There is significant difference between Age with respect to Attrition\n",
      "-----------------------------------------------------------------------------\n",
      "\n",
      "H0: There is no significant difference between DistanceFromHome and Attrition\n",
      "H1: There is significant difference between DistanceFromHome and Attrition\n",
      "\n",
      "P-value is 0.488538986087403\n",
      "\n",
      "H0 is accepted because p-value is greater than 0.05 so,\n",
      "There is no significant difference between DistanceFromHome with respect to Attrition\n",
      "-----------------------------------------------------------------------------\n",
      "\n",
      "H0: There is no significant difference between MonthlyIncome and Attrition\n",
      "H1: There is significant difference between MonthlyIncome and Attrition\n",
      "\n",
      "P-value is 0.06508807631576839\n",
      "\n",
      "H0 is accepted because p-value is greater than 0.05 so,\n",
      "There is no significant difference between MonthlyIncome with respect to Attrition\n",
      "-----------------------------------------------------------------------------\n",
      "\n",
      "H0: There is no significant difference between NumCompaniesWorked and Attrition\n",
      "H1: There is significant difference between NumCompaniesWorked and Attrition\n",
      "\n",
      "P-value is 0.02793197853866981\n",
      "\n",
      "H1 is accepted because p-value is smaller than 0.05 so,\n",
      "There is significant difference between NumCompaniesWorked with respect to Attrition\n",
      "-----------------------------------------------------------------------------\n",
      "\n",
      "H0: There is no significant difference between PercentSalaryHike and Attrition\n",
      "H1: There is significant difference between PercentSalaryHike and Attrition\n",
      "\n",
      "P-value is 0.017810794960084964\n",
      "\n",
      "H1 is accepted because p-value is smaller than 0.05 so,\n",
      "There is significant difference between PercentSalaryHike with respect to Attrition\n",
      "-----------------------------------------------------------------------------\n",
      "\n",
      "H0: There is no significant difference between TotalWorkingYears and Attrition\n",
      "H1: There is significant difference between TotalWorkingYears and Attrition\n",
      "\n",
      "P-value is 2.741211827689903e-39\n",
      "\n",
      "H1 is accepted because p-value is smaller than 0.05 so,\n",
      "There is significant difference between TotalWorkingYears with respect to Attrition\n",
      "-----------------------------------------------------------------------------\n",
      "\n",
      "H0: There is no significant difference between TrainingTimesLastYear and Attrition\n",
      "H1: There is significant difference between TrainingTimesLastYear and Attrition\n",
      "\n",
      "P-value is 0.008107344081224082\n",
      "\n",
      "H1 is accepted because p-value is smaller than 0.05 so,\n",
      "There is significant difference between TrainingTimesLastYear with respect to Attrition\n",
      "-----------------------------------------------------------------------------\n",
      "\n",
      "H0: There is no significant difference between YearsAtCompany and Attrition\n",
      "H1: There is significant difference between YearsAtCompany and Attrition\n",
      "\n",
      "P-value is 3.3433144809752036e-36\n",
      "\n",
      "H1 is accepted because p-value is smaller than 0.05 so,\n",
      "There is significant difference between YearsAtCompany with respect to Attrition\n",
      "-----------------------------------------------------------------------------\n",
      "\n",
      "H0: There is no significant difference between YearsSinceLastPromotion and Attrition\n",
      "H1: There is significant difference between YearsSinceLastPromotion and Attrition\n",
      "\n",
      "P-value is 0.00037904698157957496\n",
      "\n",
      "H1 is accepted because p-value is smaller than 0.05 so,\n",
      "There is significant difference between YearsSinceLastPromotion with respect to Attrition\n",
      "-----------------------------------------------------------------------------\n",
      "\n",
      "H0: There is no significant difference between YearsWithCurrManager and Attrition\n",
      "H1: There is significant difference between YearsWithCurrManager and Attrition\n",
      "\n",
      "P-value is 5.420302388722274e-31\n",
      "\n",
      "H1 is accepted because p-value is smaller than 0.05 so,\n",
      "There is significant difference between YearsWithCurrManager with respect to Attrition\n",
      "-----------------------------------------------------------------------------\n",
      "\n"
     ]
    }
   ],
   "source": [
    "cols = ['Age', 'DistanceFromHome', 'MonthlyIncome', 'NumCompaniesWorked',\n",
    "        'PercentSalaryHike','TotalWorkingYears','TrainingTimesLastYear', \n",
    "        'YearsAtCompany', 'YearsSinceLastPromotion','YearsWithCurrManager']\n",
    "for cl in cols:\n",
    "    mannwithney(cl)"
   ]
  },
  {
   "cell_type": "code",
   "execution_count": 37,
   "metadata": {},
   "outputs": [],
   "source": [
    "from scipy.stats import pearsonr"
   ]
  },
  {
   "cell_type": "code",
   "execution_count": 40,
   "metadata": {},
   "outputs": [],
   "source": [
    "def At_corr(col):\n",
    "    print(f\"H0: There is no correlation between {col} and Attrition\")\n",
    "    print(f\"H1: There is correlation between {col} and Attrition\")\n",
    "    \n",
    "    stats, p = pearsonr(data.Attrition, data[col])\n",
    "    \n",
    "    print(f\"\\nP-value is {p} and R is {stats}\")\n",
    "    \n",
    "    if p > 0.05:\n",
    "        print(\"H0 is accepted as pvalue is greater than 0.05\\n\")\n",
    "        print(f\"There is no correlation between {col} and Attrition\")\n",
    "    else:\n",
    "        print(\"H1 is accepted as pvalue is less than 0.05\\n\")\n",
    "        if stats > 0:\n",
    "            print(f\"There is positive correlation between {col} and Attrition\")\n",
    "        else:\n",
    "            print(f\"There is negative correlation between {col} and Attrition\")\n",
    "        \n",
    "    print(\"-------------------------NEW--------------------------\")"
   ]
  },
  {
   "cell_type": "code",
   "execution_count": 39,
   "metadata": {},
   "outputs": [
    {
     "name": "stdout",
     "output_type": "stream",
     "text": [
      "H0: There is no correlation between Age and Attrition\n",
      "H1: There is correlation between Age and Attrition\n",
      "\n",
      "P-value is 5.1265982193780794e-26 and R is -0.1583986795409671\n",
      "H1 is accepted as pvalue is less than 0.05\n",
      "\n",
      "There is negative correlation between Age and Attrition\n",
      "----------------------------------------------------------\n",
      "H0: There is no correlation between DistanceFromHome and Attrition\n",
      "H1: There is correlation between DistanceFromHome and Attrition\n",
      "\n",
      "P-value is 0.5317715668019558 and R is -0.009448638515156246\n",
      "H0 is accepted as pvalue is greater than 0.05\n",
      "\n",
      "There is no correlation between DistanceFromHome and Attrition\n",
      "----------------------------------------------------------\n",
      "H0: There is no correlation between MonthlyIncome and Attrition\n",
      "H1: There is correlation between MonthlyIncome and Attrition\n",
      "\n",
      "P-value is 0.045890862744719166 and R is -0.03016029380846066\n",
      "H1 is accepted as pvalue is less than 0.05\n",
      "\n",
      "There is negative correlation between MonthlyIncome and Attrition\n",
      "----------------------------------------------------------\n",
      "H0: There is no correlation between NumCompaniesWorked and Attrition\n",
      "H1: There is correlation between NumCompaniesWorked and Attrition\n",
      "\n",
      "P-value is 0.004572057121620842 and R is 0.042830567244720875\n",
      "H1 is accepted as pvalue is less than 0.05\n",
      "\n",
      "There is positive correlation between NumCompaniesWorked and Attrition\n",
      "----------------------------------------------------------\n",
      "H0: There is no correlation between PercentSalaryHike and Attrition\n",
      "H1: There is correlation between PercentSalaryHike and Attrition\n",
      "\n",
      "P-value is 0.028192446935106235 and R is 0.03315303713546665\n",
      "H1 is accepted as pvalue is less than 0.05\n",
      "\n",
      "There is positive correlation between PercentSalaryHike and Attrition\n",
      "----------------------------------------------------------\n",
      "H0: There is no correlation between TotalWorkingYears and Attrition\n",
      "H1: There is correlation between TotalWorkingYears and Attrition\n",
      "\n",
      "P-value is 1.1645434967091854e-29 and R is -0.1696699168472392\n",
      "H1 is accepted as pvalue is less than 0.05\n",
      "\n",
      "There is negative correlation between TotalWorkingYears and Attrition\n",
      "----------------------------------------------------------\n",
      "H0: There is no correlation between TrainingTimesLastYear and Attrition\n",
      "H1: There is correlation between TrainingTimesLastYear and Attrition\n",
      "\n",
      "P-value is 0.0016276603635477602 and R is -0.04758573693081737\n",
      "H1 is accepted as pvalue is less than 0.05\n",
      "\n",
      "There is negative correlation between TrainingTimesLastYear and Attrition\n",
      "----------------------------------------------------------\n",
      "H0: There is no correlation between YearsAtCompany and Attrition\n",
      "H1: There is correlation between YearsAtCompany and Attrition\n",
      "\n",
      "P-value is 9.476118084836507e-19 and R is -0.1330026184252154\n",
      "H1 is accepted as pvalue is less than 0.05\n",
      "\n",
      "There is negative correlation between YearsAtCompany and Attrition\n",
      "----------------------------------------------------------\n",
      "H0: There is no correlation between YearsSinceLastPromotion and Attrition\n",
      "H1: There is correlation between YearsSinceLastPromotion and Attrition\n",
      "\n",
      "P-value is 0.03752293607395154 and R is -0.03142315056330995\n",
      "H1 is accepted as pvalue is less than 0.05\n",
      "\n",
      "There is negative correlation between YearsSinceLastPromotion and Attrition\n",
      "----------------------------------------------------------\n",
      "H0: There is no correlation between YearsWithCurrManager and Attrition\n",
      "H1: There is correlation between YearsWithCurrManager and Attrition\n",
      "\n",
      "P-value is 7.105369646771178e-25 and R is -0.15469153690287274\n",
      "H1 is accepted as pvalue is less than 0.05\n",
      "\n",
      "There is negative correlation between YearsWithCurrManager and Attrition\n",
      "----------------------------------------------------------\n"
     ]
    }
   ],
   "source": [
    "cols = ['Age', 'DistanceFromHome', 'MonthlyIncome', 'NumCompaniesWorked',\n",
    "        'PercentSalaryHike','TotalWorkingYears','TrainingTimesLastYear', \n",
    "        'YearsAtCompany', 'YearsSinceLastPromotion','YearsWithCurrManager']\n",
    "for cl in cols:\n",
    "    At_corr(cl)"
   ]
  },
  {
   "cell_type": "code",
   "execution_count": 41,
   "metadata": {},
   "outputs": [
    {
     "data": {
      "text/plain": [
       "<matplotlib.axes._subplots.AxesSubplot at 0x7ff427495990>"
      ]
     },
     "execution_count": 41,
     "metadata": {},
     "output_type": "execute_result"
    },
    {
     "data": {
      "image/png": "[encoded data removed]",
      "text/plain": [
       "<Figure size 432x288 with 1 Axes>"
      ]
     },
     "metadata": {
      "needs_background": "light"
     },
     "output_type": "display_data"
    }
   ],
   "source": [
    "(A_yes.BusinessTravel.value_counts()/data.BusinessTravel.value_counts()).plot.bar()"
   ]
  },
  {
   "cell_type": "code",
   "execution_count": 42,
   "metadata": {},
   "outputs": [
    {
     "data": {
      "text/plain": [
       "<matplotlib.axes._subplots.AxesSubplot at 0x7ff425c37450>"
      ]
     },
     "execution_count": 42,
     "metadata": {},
     "output_type": "execute_result"
    },
    {
     "data": {
      "image/png": "[encoded data removed]",
      "text/plain": [
       "<Figure size 432x288 with 1 Axes>"
      ]
     },
     "metadata": {
      "needs_background": "light"
     },
     "output_type": "display_data"
    }
   ],
   "source": [
    "(A_yes.Department.value_counts()/data.Department.value_counts()).plot.bar()"
   ]
  },
  {
   "cell_type": "code",
   "execution_count": 43,
   "metadata": {},
   "outputs": [
    {
     "data": {
      "text/plain": [
       "<matplotlib.axes._subplots.AxesSubplot at 0x7ff4276b1250>"
      ]
     },
     "execution_count": 43,
     "metadata": {},
     "output_type": "execute_result"
    },
    {
     "data": {
      "image/png": "[encoded data removed]",
      "text/plain": [
       "<Figure size 432x288 with 1 Axes>"
      ]
     },
     "metadata": {
      "needs_background": "light"
     },
     "output_type": "display_data"
    }
   ],
   "source": [
    "(A_yes.Education.value_counts()/data.Education.value_counts()).plot.bar()"
   ]
  },
  {
   "cell_type": "code",
   "execution_count": 44,
   "metadata": {},
   "outputs": [
    {
     "data": {
      "text/plain": [
       "<matplotlib.axes._subplots.AxesSubplot at 0x7ff4277bc650>"
      ]
     },
     "execution_count": 44,
     "metadata": {},
     "output_type": "execute_result"
    },
    {
     "data": {
      "image/png": "[encoded data removed]",
      "text/plain": [
       "<Figure size 432x288 with 1 Axes>"
      ]
     },
     "metadata": {
      "needs_background": "light"
     },
     "output_type": "display_data"
    }
   ],
   "source": [
    "(A_yes.EducationField.value_counts()/data.EducationField.value_counts()).plot.bar()"
   ]
  },
  {
   "cell_type": "code",
   "execution_count": 45,
   "metadata": {},
   "outputs": [
    {
     "data": {
      "text/plain": [
       "<matplotlib.axes._subplots.AxesSubplot at 0x7ff4280c74d0>"
      ]
     },
     "execution_count": 45,
     "metadata": {},
     "output_type": "execute_result"
    },
    {
     "data": {
      "image/png": "[encoded data removed]",
      "text/plain": [
       "<Figure size 432x288 with 1 Axes>"
      ]
     },
     "metadata": {
      "needs_background": "light"
     },
     "output_type": "display_data"
    }
   ],
   "source": [
    "(A_yes.Gender.value_counts()/data.Gender.value_counts()).plot.bar()"
   ]
  },
  {
   "cell_type": "code",
   "execution_count": 46,
   "metadata": {},
   "outputs": [
    {
     "data": {
      "text/plain": [
       "<matplotlib.axes._subplots.AxesSubplot at 0x7ff4282cead0>"
      ]
     },
     "execution_count": 46,
     "metadata": {},
     "output_type": "execute_result"
    },
    {
     "data": {
      "image/png": "[encoded data removed]",
      "text/plain": [
       "<Figure size 432x288 with 1 Axes>"
      ]
     },
     "metadata": {
      "needs_background": "light"
     },
     "output_type": "display_data"
    }
   ],
   "source": [
    "(A_yes.MaritalStatus.value_counts()/data.MaritalStatus.value_counts()).plot.bar()"
   ]
  },
  {
   "cell_type": "code",
   "execution_count": 47,
   "metadata": {},
   "outputs": [
    {
     "data": {
      "text/plain": [
       "<matplotlib.axes._subplots.AxesSubplot at 0x7ff4283a8cd0>"
      ]
     },
     "execution_count": 47,
     "metadata": {},
     "output_type": "execute_result"
    },
    {
     "data": {
      "image/png": "[encoded data removed]",
      "text/plain": [
       "<Figure size 432x288 with 1 Axes>"
      ]
     },
     "metadata": {
      "needs_background": "light"
     },
     "output_type": "display_data"
    }
   ],
   "source": [
    "(A_yes.JobLevel.value_counts()/data.JobLevel.value_counts()).plot.bar()"
   ]
  },
  {
   "cell_type": "code",
   "execution_count": 48,
   "metadata": {},
   "outputs": [
    {
     "data": {
      "text/plain": [
       "<matplotlib.axes._subplots.AxesSubplot at 0x7ff428480fd0>"
      ]
     },
     "execution_count": 48,
     "metadata": {},
     "output_type": "execute_result"
    },
    {
     "data": {
      "image/png": "[encoded data removed]",
      "text/plain": [
       "<Figure size 432x288 with 1 Axes>"
      ]
     },
     "metadata": {
      "needs_background": "light"
     },
     "output_type": "display_data"
    }
   ],
   "source": [
    "(A_yes.JobRole.value_counts()/data.JobRole.value_counts()).plot.bar()"
   ]
  },
  {
   "cell_type": "code",
   "execution_count": 49,
   "metadata": {},
   "outputs": [
    {
     "data": {
      "text/plain": [
       "<matplotlib.axes._subplots.AxesSubplot at 0x7ff4285732d0>"
      ]
     },
     "execution_count": 49,
     "metadata": {},
     "output_type": "execute_result"
    },
    {
     "data": {
      "image/png": "[encoded data removed]",
      "text/plain": [
       "<Figure size 432x288 with 1 Axes>"
      ]
     },
     "metadata": {
      "needs_background": "light"
     },
     "output_type": "display_data"
    }
   ],
   "source": [
    "(A_yes.StockOptionLevel.value_counts()/data.StockOptionLevel.value_counts()).plot.bar()"
   ]
  },
  {
   "cell_type": "raw",
   "metadata": {},
   "source": [
    "Inferences from above analysis\n",
    "Employees with High Travel Frequency have high chances of Attrition\n",
    "More focus should be laid on HR Department as there Attrition rate is High\n",
    "Employees with college education have high Attrition rate.\n",
    "Employees who are from HR Background have very high Attrition rate.\n",
    "Employees who are single also have very high chances of Attrition rate.\n",
    "Employees with Research Director Jobrole have high chances of Attrition rate."
   ]
  },
  {
   "cell_type": "code",
   "execution_count": 50,
   "metadata": {},
   "outputs": [
    {
     "data": {
      "text/plain": [
       "Age                           32.0\n",
       "Attrition                      1.0\n",
       "DistanceFromHome               7.0\n",
       "Education                      3.0\n",
       "EmployeeCount                  1.0\n",
       "EmployeeID                  2165.0\n",
       "JobLevel                       2.0\n",
       "MonthlyIncome              49080.0\n",
       "NumCompaniesWorked             1.0\n",
       "PercentSalaryHike             14.0\n",
       "StandardHours                  8.0\n",
       "StockOptionLevel               1.0\n",
       "TotalWorkingYears              7.0\n",
       "TrainingTimesLastYear          3.0\n",
       "YearsAtCompany                 3.0\n",
       "YearsSinceLastPromotion        1.0\n",
       "YearsWithCurrManager           2.0\n",
       "dtype: float64"
      ]
     },
     "execution_count": 50,
     "metadata": {},
     "output_type": "execute_result"
    }
   ],
   "source": [
    "A_yes.median()"
   ]
  },
  {
   "cell_type": "code",
   "execution_count": 51,
   "metadata": {},
   "outputs": [
    {
     "data": {
      "text/plain": [
       "Age                           36.0\n",
       "Attrition                      0.0\n",
       "DistanceFromHome               7.0\n",
       "Education                      3.0\n",
       "EmployeeCount                  1.0\n",
       "EmployeeID                  2216.0\n",
       "JobLevel                       2.0\n",
       "MonthlyIncome              49300.0\n",
       "NumCompaniesWorked             2.0\n",
       "PercentSalaryHike             14.0\n",
       "StandardHours                  8.0\n",
       "StockOptionLevel               1.0\n",
       "TotalWorkingYears             10.0\n",
       "TrainingTimesLastYear          3.0\n",
       "YearsAtCompany                 6.0\n",
       "YearsSinceLastPromotion        1.0\n",
       "YearsWithCurrManager           3.0\n",
       "dtype: float64"
      ]
     },
     "execution_count": 51,
     "metadata": {},
     "output_type": "execute_result"
    }
   ],
   "source": [
    "A_no.median()"
   ]
  },
  {
   "cell_type": "raw",
   "metadata": {},
   "source": [
    "Inferences from above analysis\n",
    "Employees whose age is around 36 have lower chances of attrition.\n",
    "Employees with more years of experience have lower chance of Attrition."
   ]
  },
  {
   "cell_type": "raw",
   "metadata": {},
   "source": [
    "Conclusion\n",
    "1. To reduce the attrition rate more focus should be laid on HR Department\n",
    "2. Travel Frequency of Employees should be reduced as it increasing the travel frequency increases the attrition rate.\n",
    "3. Employees with more Education level should be hired more than lower education.\n",
    "4 People who are married should give higher priority while hiring new employees as they have low chances of attrition.\n",
    "5. More care should be taken of Research Directors as they have higher chances of Attrition.\n",
    "6. Employees who have higher experience should be hired as they very low chances of Attrition.\n",
    "7. More care should be taken of Employees who are single as they have higher chances of Attrition.\n",
    "8. More care should be taken of Employees who are younger in age.\n",
    "9. People around 36 years of age should be hire more as they have lower chances of Attrition."
   ]
  },
  {
   "cell_type": "code",
   "execution_count": null,
   "metadata": {},
   "outputs": [],
   "source": []
  }
 ],
 "metadata": {
  "kernelspec": {
   "display_name": "Python 3",
   "language": "python",
   "name": "python3"
  },
  "language_info": {
   "codemirror_mode": {
    "name": "ipython",
    "version": 3
   },
   "file_extension": ".py",
   "mimetype": "text/x-python",
   "name": "python",
   "nbconvert_exporter": "python",
   "pygments_lexer": "ipython3",
   "version": "3.7.6"
  }
 },
 "nbformat": 4,
 "nbformat_minor": 4
}
