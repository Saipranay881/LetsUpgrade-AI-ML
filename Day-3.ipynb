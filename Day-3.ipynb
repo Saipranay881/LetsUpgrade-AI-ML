{
 "cells": [
  {
   "cell_type": "markdown",
   "metadata": {},
   "source": [
    "# Day 3\n"
   ]
  },
  {
   "cell_type": "markdown",
   "metadata": {},
   "source": [
    "# 1. Write a program to subtract two complex numbers in Python."
   ]
  },
  {
   "cell_type": "code",
   "execution_count": 1,
   "metadata": {},
   "outputs": [
    {
     "name": "stdout",
     "output_type": "stream",
     "text": [
      "Substraction =  (4+4j)\n",
      "<class 'complex'>\n"
     ]
    }
   ],
   "source": [
    "a = 1+1J\n",
    "b = 5+5J\n",
    "c = b-a\n",
    "print(\"Substraction = \", b-a)\n",
    "print(type(c))"
   ]
  },
  {
   "cell_type": "markdown",
   "metadata": {},
   "source": [
    "# 2.Write a program to find the fourth root of a number."
   ]
  },
  {
   "cell_type": "code",
   "execution_count": 2,
   "metadata": {},
   "outputs": [
    {
     "name": "stdout",
     "output_type": "stream",
     "text": [
      "The square root of 9.000 is 3.000\n",
      "Square root of 9.000 is 3.000\n"
     ]
    }
   ],
   "source": [
    "\n",
    "num = 9 \n",
    "\n",
    "num_sqrt = num ** 0.5\n",
    "print('The square root of %0.3f is %0.3f'%(num ,num_sqrt))\n",
    "\n",
    "# Another way\n",
    "a = 9\n",
    "\n",
    "square = num ** 0.5\n",
    "\n",
    "print(\"Square root of %0.3f is %0.3f\"%(a ,square))\n",
    "\n",
    "\n"
   ]
  },
  {
   "cell_type": "markdown",
   "metadata": {},
   "source": [
    "# 3.Write a program to swap two numbers in Python with the help of a temporary variable."
   ]
  },
  {
   "cell_type": "code",
   "execution_count": 3,
   "metadata": {},
   "outputs": [
    {
     "name": "stdout",
     "output_type": "stream",
     "text": [
      "a = 50\n",
      "b = 100\n"
     ]
    }
   ],
   "source": [
    "a = 100\n",
    "b = 50\n",
    "a, b = b, a\n",
    "print(\"a =\", a)\n",
    "print(\"b =\", b)\n"
   ]
  },
  {
   "cell_type": "markdown",
   "metadata": {},
   "source": [
    "# 4.Write a program to swap two numbers in Python without using a temporary variable"
   ]
  },
  {
   "cell_type": "code",
   "execution_count": 4,
   "metadata": {},
   "outputs": [
    {
     "name": "stdout",
     "output_type": "stream",
     "text": [
      "Before a = 100, now a =  50\n",
      "Before b = 50 , now b =  100\n"
     ]
    }
   ],
   "source": [
    "\n",
    "\n",
    "a = 100\n",
    "b = 50\n",
    "\n",
    "a = a+b \n",
    "\n",
    "b= a- b\n",
    "\n",
    "a= a-b\n",
    "print(\"Before a = 100, now a = \",a)\n",
    "print(\"Before b = 50 , now b = \",b)\n",
    "\n"
   ]
  },
  {
   "cell_type": "markdown",
   "metadata": {},
   "source": [
    "# 5.Write a program to convert fahrenheit to kelvin and celsius both."
   ]
  },
  {
   "cell_type": "code",
   "execution_count": 5,
   "metadata": {},
   "outputs": [
    {
     "name": "stdout",
     "output_type": "stream",
     "text": [
      "Enter the value = 100\n",
      "Fahrenheit to Celsius Conversion= 37.77777777777778\n",
      "Fahrenheit to Kelvin Conversion= 310.9277777777778\n"
     ]
    }
   ],
   "source": [
    "Fahrenheit=int(input(\"Enter the value = \"))\n",
    "Celsius=(Fahrenheit - 32) * (5 / 9)\n",
    "Kelvin=(Fahrenheit + 459.67) * 5/9\n",
    "print(\"Fahrenheit to Celsius Conversion=\",Celsius)\n",
    "print(\"Fahrenheit to Kelvin Conversion=\",Kelvin)"
   ]
  },
  {
   "cell_type": "markdown",
   "metadata": {},
   "source": [
    "# 6. Write a program to demonstrate all the available data types in Python. Hint: Use type() function."
   ]
  },
  {
   "cell_type": "code",
   "execution_count": 6,
   "metadata": {},
   "outputs": [
    {
     "name": "stdout",
     "output_type": "stream",
     "text": [
      "<class 'int'>\n",
      "<class 'float'>\n",
      "<class 'complex'>\n",
      "<class 'str'>\n",
      "<class 'bool'>\n"
     ]
    }
   ],
   "source": [
    "print(type(100)) #Integer \n",
    "print(type(10.50)) #Float type\n",
    "print(type(1 + 5j)) #Complex type\n",
    "print(type(\"Sai Pranay\")) #String type\n",
    "print(type(True)) #Boolean type"
   ]
  },
  {
   "cell_type": "markdown",
   "metadata": {},
   "source": [
    "# 7. Create a Markdown cell in jupyter and list the steps discussed in the session by Dr. Darshan Ingle sir to create Github profile and upload Githubs Assignment link.\n"
   ]
  },
  {
   "cell_type": "markdown",
   "metadata": {},
   "source": [
    "Create a new account in Github\n",
    "Create a Github public repo and name it LetsUpgrade AI - ML\n",
    "Upload the solution file in the repo in day number assignment.\n",
    "Copy the URL of the Folder of that day and paste in the Assignment Submission Form (Google Form)\n",
    "Make sure you are filling correct details in the Assignment Submission Form."
   ]
  },
  {
   "cell_type": "code",
   "execution_count": null,
   "metadata": {},
   "outputs": [],
   "source": []
  }
 ],
 "metadata": {
  "kernelspec": {
   "display_name": "Python 3",
   "language": "python",
   "name": "python3"
  },
  "language_info": {
   "codemirror_mode": {
    "name": "ipython",
    "version": 3
   },
   "file_extension": ".py",
   "mimetype": "text/x-python",
   "name": "python",
   "nbconvert_exporter": "python",
   "pygments_lexer": "ipython3",
   "version": "3.7.6"
  }
 },
 "nbformat": 4,
 "nbformat_minor": 4
}
