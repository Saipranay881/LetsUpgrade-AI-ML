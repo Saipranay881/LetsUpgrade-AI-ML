{
 "cells": [
  {
   "cell_type": "markdown",
   "metadata": {},
   "source": [
    "# Day - 5"
   ]
  },
  {
   "cell_type": "markdown",
   "metadata": {},
   "source": [
    "# 1.Write a Python program to find the first 20 non-even prime natural numbers."
   ]
  },
  {
   "cell_type": "code",
   "execution_count": 1,
   "metadata": {},
   "outputs": [
    {
     "name": "stdout",
     "output_type": "stream",
     "text": [
      "3\n",
      "5\n",
      "7\n",
      "11\n",
      "13\n",
      "17\n",
      "19\n",
      "23\n",
      "29\n",
      "31\n",
      "37\n",
      "41\n",
      "43\n",
      "47\n"
     ]
    }
   ],
   "source": [
    "for x in range(50):\n",
    "  if(x==0 or x==1 or x==2 ):\n",
    "    continue;\n",
    "  y=2\n",
    "  while y<=x-1:\n",
    "    if(x%y==0):\n",
    "     break;\n",
    "    y=y+1\n",
    "  else:\n",
    "    print(x)"
   ]
  },
  {
   "cell_type": "markdown",
   "metadata": {},
   "source": [
    "2.Write a Python program to implement 15 functions of string"
   ]
  },
  {
   "cell_type": "code",
   "execution_count": 2,
   "metadata": {},
   "outputs": [
    {
     "name": "stdout",
     "output_type": "stream",
     "text": [
      "False\n",
      "False\n",
      "False\n",
      "Letsupgrade ai-ml\n",
      "letsupgrade ai-ml\n",
      "LETSUPGRADE AI-ML\n",
      "lETSuPGRADE ai-ml\n",
      "Letsupgrade Ai-Ml\n",
      "1\n",
      "LetsUpgraDE AI-ML\n",
      "17\n",
      "['LetsUpgrade AI-ML']\n",
      "LetsUpgrade AI-ML\n",
      "ggg\n",
      "[' ', '-', 'A', 'I', 'L', 'L', 'M', 'U', 'a', 'd', 'e', 'e', 'g', 'p', 'r', 's', 't']\n",
      "Function 'Capitalize':  Letsupgrade ai-ml\n",
      "Function 'Count':  1\n",
      "Function 'find':  -1\n",
      "Function 'upper':  LETSUPGRADE AI-ML\n",
      "Function 'lower':  letsupgrade ai-ml\n",
      "Function 'islower':  False\n",
      "Function 'isalpha':  False\n",
      "Function 'isspace':  False\n",
      "Function 'istitle':  False\n",
      "Function 'len':  17\n"
     ]
    }
   ],
   "source": [
    "a=\"LetsUpgrade AI-ML\"\n",
    "print(a.islower())\n",
    "print(a.isupper())\n",
    "print(a.isalpha())\n",
    "print(a.capitalize())\n",
    "print(a.lower())\n",
    "print(a.upper())\n",
    "print(a.swapcase())\n",
    "print(a.title())\n",
    "print(a.count('s',1,12))\n",
    "print(a.replace(\"de\",\"DE\"))\n",
    "print(len(a))\n",
    "print(a.split('  ',5))\n",
    "print(a.center(10))\n",
    "print(\"ggg\")\n",
    "print(sorted(a))\n",
    "print(\"Function 'Capitalize': \",a.capitalize())\n",
    "print(\"Function 'Count': \",a.count('a',0))\n",
    "print(\"Function 'find': \",a.find('w'))\n",
    "print(\"Function 'upper': \",a.upper())\n",
    "print(\"Function 'lower': \",a.lower())\n",
    "print(\"Function 'islower': \",a.islower())\n",
    "print(\"Function 'isalpha': \",a.isalpha())\n",
    "print(\"Function 'isspace': \",a.isspace())\n",
    "print(\"Function 'istitle': \",a.istitle())\n",
    "print(\"Function 'len': \",len(a))"
   ]
  },
  {
   "cell_type": "markdown",
   "metadata": {},
   "source": [
    "3.Write a Python program to check if the given string is a Palindrome or Anagram or None of them. Display the message accordingly to the user.\n"
   ]
  },
  {
   "cell_type": "code",
   "execution_count": 3,
   "metadata": {},
   "outputs": [
    {
     "name": "stdout",
     "output_type": "stream",
     "text": [
      "radar The strings are Palindrome\n",
      "python The string is none of them\n"
     ]
    }
   ],
   "source": [
    "str1 = \"radar\"\n",
    "str2 = \"python\"\n",
    "if(str1 == str1[::-1]):\n",
    "    print(str1, 'The strings are Palindrome')\n",
    "else:\n",
    "    print('The string is Anagram')\n",
    "if(str2 != str2[::-1]):\n",
    "    print(str2, 'The string is none of them')"
   ]
  },
  {
   "cell_type": "markdown",
   "metadata": {},
   "source": [
    "4.Write a Python's user defined function that removes all the additional characters from the string and converts it finally to lower case using built-in lower(). eg: If the string is \"Dr. Darshan Ingle @AI-ML Trainer\", then the output be \"drdarshaningleaimltrainer\"."
   ]
  },
  {
   "cell_type": "code",
   "execution_count": 4,
   "metadata": {},
   "outputs": [
    {
     "name": "stdout",
     "output_type": "stream",
     "text": [
      "Original string Hello World !@LetsUpgrade.AI-ML\n",
      "helloworldletsupgradeaiml\n"
     ]
    }
   ],
   "source": [
    "\n",
    "a=\"Hello World !@LetsUpgrade.AI-ML\"\n",
    "def del_badchar(a):\n",
    "  print(\"Original string\",a)\n",
    "  badchars=['@',' ','.','-','!']\n",
    "  for i in badchars:\n",
    "    a=a.replace(i,'')\n",
    "  print(a.lower())\n",
    "del_badchar(a)"
   ]
  },
  {
   "cell_type": "code",
   "execution_count": null,
   "metadata": {},
   "outputs": [],
   "source": []
  }
 ],
 "metadata": {
  "kernelspec": {
   "display_name": "Python 3",
   "language": "python",
   "name": "python3"
  },
  "language_info": {
   "codemirror_mode": {
    "name": "ipython",
    "version": 3
   },
   "file_extension": ".py",
   "mimetype": "text/x-python",
   "name": "python",
   "nbconvert_exporter": "python",
   "pygments_lexer": "ipython3",
   "version": "3.7.6"
  }
 },
 "nbformat": 4,
 "nbformat_minor": 4
}
