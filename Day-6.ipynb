{
 "cells": [
  {
   "cell_type": "markdown",
   "metadata": {},
   "source": [
    "# Day-6"
   ]
  },
  {
   "cell_type": "markdown",
   "metadata": {},
   "source": [
    "1. \"username@companyname.com\" format, "
   ]
  },
  {
   "cell_type": "code",
   "execution_count": 1,
   "metadata": {},
   "outputs": [
    {
     "name": "stdout",
     "output_type": "stream",
     "text": [
      "Enter you Mail Address: Sai@LetsUpgrade.com\n",
      "LetsUpgrade\n"
     ]
    }
   ],
   "source": [
    "input_email = input('Enter you Mail Address: ')\n",
    "company = input_email.split('@')[1]\n",
    "name = company.split('.')[0]\n",
    "print(name)"
   ]
  },
  {
   "cell_type": "code",
   "execution_count": 2,
   "metadata": {},
   "outputs": [
    {
     "name": "stdout",
     "output_type": "stream",
     "text": [
      "Enter the words: \n",
      "Join, course,Aiml\n",
      "[' course', 'Aiml', 'Join']\n",
      " course,Aiml,Join,"
     ]
    }
   ],
   "source": [
    "l=input (\"Enter the words: \\n\")\n",
    "l=l.split(',')\n",
    "l.sort()\n",
    "print(l)\n",
    "for i in l:\n",
    "    print(i,end=\",\")"
   ]
  },
  {
   "cell_type": "code",
   "execution_count": 3,
   "metadata": {},
   "outputs": [
    {
     "name": "stdout",
     "output_type": "stream",
     "text": [
      "{'AI-ML', 'hi', 'welcome to', 'hello'}\n",
      "length of set: 4\n",
      "The new set is : {'AI-ML', 'welcome to', 'hello'}\n"
     ]
    }
   ],
   "source": [
    "list={\"hi\",\"hello\",\"hello\",\"welcome to\",\"AI-ML\"}\n",
    "set= set(list)\n",
    "print(set)\n",
    "print(\"length of set:\",len(set))\n",
    "set.remove(\"hi\")\n",
    "print(\"The new set is :\",set)"
   ]
  },
  {
   "cell_type": "code",
   "execution_count": 9,
   "metadata": {},
   "outputs": [
    {
     "name": "stdout",
     "output_type": "stream",
     "text": [
      "Enter list seperated by space : 1 2 3 4 5 6 7 8 9 2 4 6\n",
      "1 2 3 4 5 6 7 8 9\n"
     ]
    }
   ],
   "source": [
    "def remvoe_all_duplicate():\n",
    "    input_list_str = input('Enter list seperated by space ' ': ')\n",
    "    input_list = input_list_str.split(' ')\n",
    "    input_duplicate_removed = []\n",
    "    for one_element in input_list:\n",
    "        if one_element not in input_duplicate_removed:\n",
    "            input_duplicate_removed.append(one_element)\n",
    "            \n",
    "    print(' '.join(input_duplicate_removed))\n",
    "remvoe_all_duplicate()\n"
   ]
  },
  {
   "cell_type": "code",
   "execution_count": null,
   "metadata": {},
   "outputs": [],
   "source": []
  },
  {
   "cell_type": "code",
   "execution_count": null,
   "metadata": {},
   "outputs": [],
   "source": []
  }
 ],
 "metadata": {
  "kernelspec": {
   "display_name": "Python 3",
   "language": "python",
   "name": "python3"
  },
  "language_info": {
   "codemirror_mode": {
    "name": "ipython",
    "version": 3
   },
   "file_extension": ".py",
   "mimetype": "text/x-python",
   "name": "python",
   "nbconvert_exporter": "python",
   "pygments_lexer": "ipython3",
   "version": "3.7.6"
  }
 },
 "nbformat": 4,
 "nbformat_minor": 4
}
