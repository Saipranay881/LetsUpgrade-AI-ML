{
 "cells": [
  {
   "cell_type": "markdown",
   "metadata": {},
   "source": [
    "# 1. Create a 3x3x3 array with random values "
   ]
  },
  {
   "cell_type": "code",
   "execution_count": 1,
   "metadata": {},
   "outputs": [
    {
     "name": "stdout",
     "output_type": "stream",
     "text": [
      "[[ 9 16  2]\n",
      " [ 6 19 12]\n",
      " [ 5  5 16]]\n"
     ]
    }
   ],
   "source": [
    "import numpy as np\n",
    "arr = np.random.randint(1,20,size=(3,3))\n",
    "print(arr)"
   ]
  },
  {
   "cell_type": "markdown",
   "metadata": {},
   "source": [
    "# 2.Create a 5x5 matrix with values 1,2,3,4 just below the diagonal"
   ]
  },
  {
   "cell_type": "code",
   "execution_count": 2,
   "metadata": {},
   "outputs": [
    {
     "name": "stdout",
     "output_type": "stream",
     "text": [
      "[[0. 0. 0. 0. 0.]\n",
      " [1. 0. 0. 0. 0.]\n",
      " [0. 2. 0. 0. 0.]\n",
      " [0. 0. 3. 0. 0.]\n",
      " [0. 0. 0. 4. 0.]]\n"
     ]
    }
   ],
   "source": [
    "import numpy as np\n",
    "x=np.zeros((5,5))\n",
    "n=0\n",
    "for i in range(0,5):\n",
    "    for j in range(0,5):\n",
    "        if (i == (j+1)):\n",
    "            x[i][j]=n+1\n",
    "            n=n+1\n",
    "        else:\n",
    "            continue\n",
    "print(x)"
   ]
  },
  {
   "cell_type": "markdown",
   "metadata": {},
   "source": [
    "# 3.Create a 8x8 matrix and fill it with a checkerboard pattern"
   ]
  },
  {
   "cell_type": "code",
   "execution_count": 3,
   "metadata": {},
   "outputs": [
    {
     "name": "stdout",
     "output_type": "stream",
     "text": [
      "[[1. 0. 1. 0. 1. 0. 1. 0.]\n",
      " [0. 1. 0. 1. 0. 1. 0. 1.]\n",
      " [1. 0. 1. 0. 1. 0. 1. 0.]\n",
      " [0. 1. 0. 1. 0. 1. 0. 1.]\n",
      " [1. 0. 1. 0. 1. 0. 1. 0.]\n",
      " [0. 1. 0. 1. 0. 1. 0. 1.]\n",
      " [1. 0. 1. 0. 1. 0. 1. 0.]\n",
      " [0. 1. 0. 1. 0. 1. 0. 1.]]\n"
     ]
    }
   ],
   "source": [
    "import numpy as np\n",
    "z=np.zeros((8,8))\n",
    "for i in range(0,8):\n",
    "    for j in range(0,8):\n",
    "        if ((i+j)%2 == 0):\n",
    "            z[i][j]=1\n",
    "        else:\n",
    "            z[i][j]=0\n",
    "print(z)\n"
   ]
  },
  {
   "cell_type": "markdown",
   "metadata": {},
   "source": [
    "# 4. Normalize a 5x5 random matrix"
   ]
  },
  {
   "cell_type": "code",
   "execution_count": 4,
   "metadata": {},
   "outputs": [
    {
     "name": "stdout",
     "output_type": "stream",
     "text": [
      "Original Array:\n",
      "[[27 26 44 48 40]\n",
      " [22 10 20 15 41]\n",
      " [26 17 31 33 23]\n",
      " [23 15 16 35 13]\n",
      " [22 47 38 23 24]]\n",
      "After normalization:\n",
      "[[0.44736842 0.42105263 0.89473684 1.         0.78947368]\n",
      " [0.31578947 0.         0.26315789 0.13157895 0.81578947]\n",
      " [0.42105263 0.18421053 0.55263158 0.60526316 0.34210526]\n",
      " [0.34210526 0.13157895 0.15789474 0.65789474 0.07894737]\n",
      " [0.31578947 0.97368421 0.73684211 0.34210526 0.36842105]]\n"
     ]
    }
   ],
   "source": [
    "import numpy as np\n",
    "x= np.random.randint(10,50,size=(5,5))\n",
    "print(\"Original Array:\")\n",
    "print(x)\n",
    "xmax, xmin = x.max(), x.min()\n",
    "x = (x - xmin)/(xmax - xmin)\n",
    "print(\"After normalization:\")\n",
    "print(x)"
   ]
  },
  {
   "cell_type": "markdown",
   "metadata": {},
   "source": [
    "# 5.  How to find common values between two arrays?"
   ]
  },
  {
   "cell_type": "code",
   "execution_count": 5,
   "metadata": {},
   "outputs": [
    {
     "name": "stdout",
     "output_type": "stream",
     "text": [
      "Array1: \n",
      " [[1 2]\n",
      " [3 1]\n",
      " [2 4]]\n",
      "Array2: \n",
      " [[4 3]\n",
      " [3 4]\n",
      " [0 1]]\n",
      "Common values between two arrays:\n",
      "[1 3 4]\n"
     ]
    }
   ],
   "source": [
    "import numpy as np\n",
    "array1 = np.array(([1, 2], [3, 1], [2, 4]))\n",
    "print(\"Array1: \\n\",array1)\n",
    "array2 = np.array(([4, 3],[3, 4], [0, 1]))\n",
    "print(\"Array2: \\n\",array2)\n",
    "print(\"Common values between two arrays:\")\n",
    "print(np.intersect1d(array1, array2))"
   ]
  },
  {
   "cell_type": "markdown",
   "metadata": {},
   "source": [
    "# 6.How to get the dates of yesterday, today and tomorrow?"
   ]
  },
  {
   "cell_type": "code",
   "execution_count": 6,
   "metadata": {},
   "outputs": [
    {
     "name": "stdout",
     "output_type": "stream",
     "text": [
      "Today:  2020-07-26\n",
      "Yestraday:  2020-07-25\n",
      "Tomorrow:  2020-07-27\n"
     ]
    }
   ],
   "source": [
    "import numpy as np\n",
    "today     = np.datetime64('today')\n",
    "print(\"Today: \",today)\n",
    "yesterday = np.datetime64('today') - np.timedelta64(1)\n",
    "print(\"Yestraday: \",yesterday)\n",
    "tomorrow  = np.datetime64('today') + np.timedelta64(1)\n",
    "print(\"Tomorrow: \",tomorrow)"
   ]
  },
  {
   "cell_type": "markdown",
   "metadata": {},
   "source": [
    "# 7. Consider two random array A and B, check if they are equal"
   ]
  },
  {
   "cell_type": "code",
   "execution_count": 7,
   "metadata": {},
   "outputs": [
    {
     "name": "stdout",
     "output_type": "stream",
     "text": [
      "Not equal\n"
     ]
    }
   ],
   "source": [
    "A = np.array([[10,20],[30,40]])\n",
    "B = np.array([[1,2],[3,4]])\n",
    "\n",
    "comparison = (A == B)\n",
    "if (comparison.all()):\n",
    "    print(\"Equal\")\n",
    "else:\n",
    "    print(\"Not equal\")"
   ]
  },
  {
   "cell_type": "markdown",
   "metadata": {},
   "source": [
    "# 8.Create random vector of size 10 and replace the maximum value by 0 "
   ]
  },
  {
   "cell_type": "code",
   "execution_count": 8,
   "metadata": {},
   "outputs": [
    {
     "name": "stdout",
     "output_type": "stream",
     "text": [
      "Original array is :  [10, 32, 45, 90, 9, 5, 66, 1, 63, 15]\n",
      "Maximum element =  90\n",
      "After replacing the maximum element, array is  [10, 32, 45, 0, 9, 5, 66, 1, 63, 15]\n"
     ]
    }
   ],
   "source": [
    "def largest(vec,n): \n",
    "    max = vec[0] \n",
    "    for i in range(1, n): \n",
    "        if vec[i] > max: \n",
    "            max = vec[i]\n",
    "            j=i\n",
    "    vec2[j]=0\n",
    "    print(\"Maximum element = \",max)\n",
    "\n",
    "vec = [10, 32, 45, 90, 9, 5, 66, 1, 63, 15]\n",
    "print(\"Original array is : \",vec)\n",
    "vec2=vec\n",
    "n = len(vec) \n",
    "largest(vec,n)\n",
    "print(\"After replacing the maximum element, array is \",vec2)"
   ]
  },
  {
   "cell_type": "markdown",
   "metadata": {},
   "source": [
    "# 9. How to print all the values of an array?"
   ]
  },
  {
   "cell_type": "code",
   "execution_count": 9,
   "metadata": {},
   "outputs": [
    {
     "name": "stdout",
     "output_type": "stream",
     "text": [
      "[[1 2]\n",
      " [3 4]\n",
      " [5 6]]\n"
     ]
    }
   ],
   "source": [
    "import numpy as np\n",
    "array=np.array(([1,2],[3,4],[5,6]))\n",
    "print(array)"
   ]
  },
  {
   "cell_type": "markdown",
   "metadata": {},
   "source": [
    "# 10.Subtract the mean of each row of a matrix"
   ]
  },
  {
   "cell_type": "code",
   "execution_count": 11,
   "metadata": {},
   "outputs": [
    {
     "name": "stdout",
     "output_type": "stream",
     "text": [
      "Array is: \n",
      " [[10 20]\n",
      " [30 40]\n",
      " [50 60]]\n",
      "Array after subtracting mean of each row with each element in the row : \n",
      " [[ 5 15]\n",
      " [25 35]\n",
      " [45 55]]\n"
     ]
    }
   ],
   "source": [
    "import numpy as np\n",
    "x = np.array(([10,20],[30,40],[50,60]))\n",
    "print(\"Array is: \\n\",x)\n",
    "for i in range(0,3):\n",
    "    y= x[i].mean()\n",
    "    x[i]=x[i]-a\n",
    "print(\"Array after subtracting mean of each row with each element in the row : \\n\",x)\n",
    "    "
   ]
  },
  {
   "cell_type": "markdown",
   "metadata": {},
   "source": [
    "# 11.Consider a given vector, how to add 1 to each element indexed by a second vector (be careful with repeated indices)? "
   ]
  },
  {
   "cell_type": "code",
   "execution_count": 15,
   "metadata": {},
   "outputs": [
    {
     "name": "stdout",
     "output_type": "stream",
     "text": [
      "[5. 4. 4. 1. 1. 1. 3. 2. 5. 4.]\n"
     ]
    }
   ],
   "source": [
    "p = np.ones(10)\n",
    "c = np.random.randint(0,len(p),20)\n",
    "p += np.bincount(c, minlength=len(p))\n",
    "print(p)"
   ]
  },
  {
   "cell_type": "markdown",
   "metadata": {},
   "source": [
    "# 12.How to get the diagonal of a dot product?"
   ]
  },
  {
   "cell_type": "code",
   "execution_count": 16,
   "metadata": {},
   "outputs": [
    {
     "name": "stdout",
     "output_type": "stream",
     "text": [
      "Array 1 : \n",
      " [[13 19 10]\n",
      " [10 13 15]\n",
      " [ 0  7  4]] \n",
      "Array 2 : \n",
      " [[17 16  7]\n",
      " [ 6 14 16]\n",
      " [ 8  4 17]]\n"
     ]
    },
    {
     "data": {
      "text/plain": [
       "array([415, 402, 180])"
      ]
     },
     "execution_count": 16,
     "metadata": {},
     "output_type": "execute_result"
    }
   ],
   "source": [
    "A = np.random.randint(0,20,(3,3))\n",
    "B= np.random.randint(0,20,(3,3))\n",
    "print(\"Array 1 : \\n\",A,\"\\nArray 2 : \\n\",B)\n",
    "np.sum(A * B.T, axis=1)"
   ]
  },
  {
   "cell_type": "markdown",
   "metadata": {},
   "source": [
    "# 13.How to find the most frequent value in an array?"
   ]
  },
  {
   "cell_type": "code",
   "execution_count": 18,
   "metadata": {},
   "outputs": [
    {
     "name": "stdout",
     "output_type": "stream",
     "text": [
      "Array is : \n",
      " [3 4 3 4 5 1 2 1 6 1 3 5 3 1 0 6 6 6 4 8]\n",
      "Most frequent value is :  1\n"
     ]
    }
   ],
   "source": [
    "array = np.random.randint(0,10,20)\n",
    "print (\"Array is : \\n\",arr)\n",
    "print('Most frequent value is : ', np.bincount(array).argmax())"
   ]
  },
  {
   "cell_type": "markdown",
   "metadata": {},
   "source": [
    "# 14.How to get the n largest values of an array"
   ]
  },
  {
   "cell_type": "code",
   "execution_count": 19,
   "metadata": {},
   "outputs": [
    {
     "name": "stdout",
     "output_type": "stream",
     "text": [
      "[40 41 42 43 44 45 46 47 48 49]\n"
     ]
    }
   ],
   "source": [
    "x = np.arange(50)\n",
    "np.random.shuffle(x)\n",
    "n = 10\n",
    "print (x[np.argsort(x)[-n:]])"
   ]
  },
  {
   "cell_type": "markdown",
   "metadata": {},
   "source": [
    "# 15.How to create a record array from a regular array?"
   ]
  },
  {
   "cell_type": "code",
   "execution_count": 22,
   "metadata": {},
   "outputs": [
    {
     "name": "stdout",
     "output_type": "stream",
     "text": [
      "Regular array : \n",
      " [['LetsUpgrade' '10' '15.5']\n",
      " ['AI-ML' '20' '30.75']]\n",
      "Record array : \n",
      " [('Hi', '9.5', '13') ('Hello', '3.6', '32')]\n"
     ]
    }
   ],
   "source": [
    "array = np.array([(\"LetsUpgrade\", 10, 15.50),\n",
    "              (\"AI-ML\", 20, 30.75)])\n",
    "rec = np.core.records.fromarrays(arr.T, names='col1, col2, col3')\n",
    "print(\"Regular array : \\n\",array)\n",
    "print(\"Record array : \\n\",rec)"
   ]
  },
  {
   "cell_type": "code",
   "execution_count": null,
   "metadata": {},
   "outputs": [],
   "source": []
  }
 ],
 "metadata": {
  "kernelspec": {
   "display_name": "Python 3",
   "language": "python",
   "name": "python3"
  },
  "language_info": {
   "codemirror_mode": {
    "name": "ipython",
    "version": 3
   },
   "file_extension": ".py",
   "mimetype": "text/x-python",
   "name": "python",
   "nbconvert_exporter": "python",
   "pygments_lexer": "ipython3",
   "version": "3.7.6"
  }
 },
 "nbformat": 4,
 "nbformat_minor": 2
}
